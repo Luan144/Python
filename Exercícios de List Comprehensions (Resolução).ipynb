{
 "cells": [
  {
   "cell_type": "markdown",
   "metadata": {},
   "source": [
    "# Resolução da lista de exercícios para utilização de List Comprehensions"
   ]
  },
  {
   "cell_type": "markdown",
   "metadata": {},
   "source": [
    "### O objetivo dessa lista de exercícios é proporcionar a aplicação de list comprehensions de forma gradual para melhor compreensão e fixação dos conceitos."
   ]
  },
  {
   "cell_type": "markdown",
   "metadata": {},
   "source": [
    "#### Importar o módulo Numpy para criação de arrays:"
   ]
  },
  {
   "cell_type": "code",
   "execution_count": 15,
   "metadata": {},
   "outputs": [],
   "source": [
    "import numpy as np"
   ]
  },
  {
   "cell_type": "markdown",
   "metadata": {},
   "source": [
    "## Exercícios com manipulação de números"
   ]
  },
  {
   "cell_type": "markdown",
   "metadata": {},
   "source": [
    "#### Utilizando o módulo NumPy crie uma lista com números ordenados. Por exemplo: de 0 a 10.\n",
    "#### dica: Para melhor aferição dos resultados limite o comprimento da sua lista a poucos elementos."
   ]
  },
  {
   "cell_type": "code",
   "execution_count": 16,
   "metadata": {},
   "outputs": [
    {
     "data": {
      "text/plain": [
       "array([0, 1, 2, 3, 4, 5, 6, 7, 8])"
      ]
     },
     "execution_count": 16,
     "metadata": {},
     "output_type": "execute_result"
    }
   ],
   "source": [
    "lista = np.arange(0,9)\n",
    "lista"
   ]
  },
  {
   "cell_type": "markdown",
   "metadata": {},
   "source": [
    "## Ex 01) Escreva uma list comprehension que retorne uma segunda lista com os valores da primeira multiplicados por 2."
   ]
  },
  {
   "cell_type": "code",
   "execution_count": 17,
   "metadata": {},
   "outputs": [
    {
     "data": {
      "text/plain": [
       "[0, 2, 4, 6, 8, 10, 12, 14, 16]"
      ]
     },
     "execution_count": 17,
     "metadata": {},
     "output_type": "execute_result"
    }
   ],
   "source": [
    "lista_ex1 = [x*2 for x in lista]\n",
    "lista_ex1"
   ]
  },
  {
   "cell_type": "markdown",
   "metadata": {},
   "source": [
    "## Ex 02) Escreva uma list comprehension que retorne uma lista com os valores da primeira elevados ao quadrado."
   ]
  },
  {
   "cell_type": "code",
   "execution_count": 18,
   "metadata": {},
   "outputs": [
    {
     "data": {
      "text/plain": [
       "[0, 1, 4, 9, 16, 25, 36, 49, 64]"
      ]
     },
     "execution_count": 18,
     "metadata": {},
     "output_type": "execute_result"
    }
   ],
   "source": [
    "lista_ex2 = [x**2 for x in lista]\n",
    "lista_ex2"
   ]
  },
  {
   "cell_type": "markdown",
   "metadata": {},
   "source": [
    "## Ex 03) Escreva uma list comprehension que retorne uma lista contendo apenas os números pares da primeira llsta."
   ]
  },
  {
   "cell_type": "code",
   "execution_count": 19,
   "metadata": {},
   "outputs": [
    {
     "data": {
      "text/plain": [
       "[0, 2, 4, 6, 8]"
      ]
     },
     "execution_count": 19,
     "metadata": {},
     "output_type": "execute_result"
    }
   ],
   "source": [
    "lista_ex3 = [x for x in lista if x % 2 == 0]\n",
    "lista_ex3"
   ]
  },
  {
   "cell_type": "markdown",
   "metadata": {},
   "source": [
    "## Ex 04) Escreva uma list comprehension que retorne uma lista contendo apenas os números ímpares da primeira lista."
   ]
  },
  {
   "cell_type": "code",
   "execution_count": 20,
   "metadata": {},
   "outputs": [
    {
     "data": {
      "text/plain": [
       "[1, 3, 5, 7]"
      ]
     },
     "execution_count": 20,
     "metadata": {},
     "output_type": "execute_result"
    }
   ],
   "source": [
    "lista_ex4 = [x for x in lista if x % 2 != 0]\n",
    "lista_ex4"
   ]
  },
  {
   "cell_type": "markdown",
   "metadata": {},
   "source": [
    "## Ex 05) Escreva uma list comprehension que retorne apenas os números pares da primeira lista e os transforme em números negativos. Após isso, adicione esta nova lista à lista do Ex 04."
   ]
  },
  {
   "cell_type": "code",
   "execution_count": 26,
   "metadata": {},
   "outputs": [
    {
     "data": {
      "text/plain": [
       "[1, 3, 5, 7, 0, -2, -4, -6, -8]"
      ]
     },
     "execution_count": 26,
     "metadata": {},
     "output_type": "execute_result"
    }
   ],
   "source": [
    "lista_ex5 = [-x for x in lista if x % 2 == 0]\n",
    "lista_ex5 = lista_ex4 + lista_ex5\n",
    "lista_ex5"
   ]
  },
  {
   "cell_type": "markdown",
   "metadata": {},
   "source": [
    "## Ex 06) Utilizando a lista criada no exercício 05 escreva uma list comprehension que retorne  uma segunda lista apenas com os valores negativos da primeira."
   ]
  },
  {
   "cell_type": "code",
   "execution_count": 28,
   "metadata": {},
   "outputs": [
    {
     "data": {
      "text/plain": [
       "[-2, -4, -6, -8]"
      ]
     },
     "execution_count": 28,
     "metadata": {},
     "output_type": "execute_result"
    }
   ],
   "source": [
    "lista_ex6 = [x for x in lista_ex5 if x < 0]\n",
    "lista_ex6"
   ]
  },
  {
   "cell_type": "markdown",
   "metadata": {},
   "source": [
    "## Ex 07) Ainda utilizando a lista criada no exercício 05, escreva uma list comprehension que eleve ao quadrado os números negativos e que triplique os números positivos. "
   ]
  },
  {
   "cell_type": "code",
   "execution_count": 30,
   "metadata": {},
   "outputs": [
    {
     "data": {
      "text/plain": [
       "[3, 9, 15, 21, 0, 4, 16, 36, 64]"
      ]
     },
     "execution_count": 30,
     "metadata": {},
     "output_type": "execute_result"
    }
   ],
   "source": [
    "lista_ex7 = [x**2 if x < 0 else x*3 for x in lista_ex5]\n",
    "lista_ex7"
   ]
  },
  {
   "cell_type": "markdown",
   "metadata": {},
   "source": [
    "## Ex 08) Crie agora duas listas numéricas contendo três elementos cada. Em seguida, utilizando list comprehensions, escreva uma expressão que calcule o produto cartesiano entre os valores dessas duas listas."
   ]
  },
  {
   "cell_type": "code",
   "execution_count": 31,
   "metadata": {},
   "outputs": [
    {
     "data": {
      "text/plain": [
       "[(0, -5),\n",
       " (0, -4),\n",
       " (0, -3),\n",
       " (1, -5),\n",
       " (1, -4),\n",
       " (1, -3),\n",
       " (2, -5),\n",
       " (2, -4),\n",
       " (2, -3)]"
      ]
     },
     "execution_count": 31,
     "metadata": {},
     "output_type": "execute_result"
    }
   ],
   "source": [
    "lista_1 = np.arange(0,3)\n",
    "lista_2 = np.arange(-5,-2)\n",
    "\n",
    "prod_cart = [(x,y) for x in lista_1 for y in lista_2]\n",
    "prod_cart"
   ]
  },
  {
   "cell_type": "markdown",
   "metadata": {},
   "source": [
    "## Exercícios com manipulação de strings"
   ]
  },
  {
   "cell_type": "markdown",
   "metadata": {},
   "source": [
    "#### Crie uma string com pelo menos 5 palavras"
   ]
  },
  {
   "cell_type": "code",
   "execution_count": 47,
   "metadata": {},
   "outputs": [],
   "source": [
    "frase = \"Não entre em pânico\""
   ]
  },
  {
   "cell_type": "markdown",
   "metadata": {},
   "source": [
    "## Ex 09) Utilizando list comprehensions escreva uma expressão que gere uma lista contendo o número de letras de cada palavra da srting criada anteriormente."
   ]
  },
  {
   "cell_type": "code",
   "execution_count": 48,
   "metadata": {},
   "outputs": [
    {
     "data": {
      "text/plain": [
       "[3, 5, 2, 6]"
      ]
     },
     "execution_count": 48,
     "metadata": {},
     "output_type": "execute_result"
    }
   ],
   "source": [
    "lista_ex9 = [len(x) for x in frase.split()]\n",
    "lista_ex9"
   ]
  },
  {
   "cell_type": "markdown",
   "metadata": {},
   "source": [
    "## Ex 10) Utilizando list comprehensions escreva uma expressão que gere uma lista contendo todas as palavras da string criada anteriormente exceto uma delas. "
   ]
  },
  {
   "cell_type": "code",
   "execution_count": 50,
   "metadata": {},
   "outputs": [
    {
     "data": {
      "text/plain": [
       "['entre', 'em', 'pânico']"
      ]
     },
     "execution_count": 50,
     "metadata": {},
     "output_type": "execute_result"
    }
   ],
   "source": [
    "lista_ex10 = [x for x in frase.split() if x != \"Não\"]\n",
    "lista_ex10"
   ]
  },
  {
   "cell_type": "markdown",
   "metadata": {},
   "source": [
    "## Ex 11) Utilizando list comprehensions escreva uma expressão que gere uma lista com todas as vogais presentes na segunda palavra da string criada no exercício anterior."
   ]
  },
  {
   "cell_type": "code",
   "execution_count": 54,
   "metadata": {},
   "outputs": [
    {
     "data": {
      "text/plain": [
       "['e', 'e']"
      ]
     },
     "execution_count": 54,
     "metadata": {},
     "output_type": "execute_result"
    }
   ],
   "source": [
    "lista_ex11 = [x for x in frase.split()[1] if x == \"a\" or x == \"e\" or x == \"i\" or x == \"o\" or x == \"u\"]\n",
    "lista_ex11"
   ]
  },
  {
   "cell_type": "markdown",
   "metadata": {},
   "source": [
    "## Ex 12) Utilizando list comprehensions itere sobre a lista a seguir e obtenha uma segunda lista apenas com os filmes lançados até 2015."
   ]
  },
  {
   "cell_type": "code",
   "execution_count": 55,
   "metadata": {},
   "outputs": [],
   "source": [
    "filmes = [(\"Trama Fantasma\", 2017), (\"Com Amor Van Gogh\", 2017), (\"Nebraska\", 2013), (\"Cosmópolis\", 2012), (\"O Lagosta\", 2015),\n",
    "          (\"A Chegada\", 2016), (\"O Primeiro Homen\", 2018)]"
   ]
  },
  {
   "cell_type": "code",
   "execution_count": 56,
   "metadata": {},
   "outputs": [
    {
     "data": {
      "text/plain": [
       "[('Nebraska', 2013), ('Cosmópolis', 2012), ('O Lagosta', 2015)]"
      ]
     },
     "execution_count": 56,
     "metadata": {},
     "output_type": "execute_result"
    }
   ],
   "source": [
    "lista_ex12 = [(x,y) for (x,y) in filmes if y <= 2015]\n",
    "lista_ex12"
   ]
  },
  {
   "cell_type": "markdown",
   "metadata": {},
   "source": [
    "## Ex 13) Utilizando list comprehensions itere sobre a lista do exercício anterior e obtenha uma segunda lista apenas os títulos dos filmes cujo título é iniciado com a letra \"C\"."
   ]
  },
  {
   "cell_type": "code",
   "execution_count": 57,
   "metadata": {},
   "outputs": [
    {
     "data": {
      "text/plain": [
       "['Com Amor Van Gogh', 'Cosmópolis']"
      ]
     },
     "execution_count": 57,
     "metadata": {},
     "output_type": "execute_result"
    }
   ],
   "source": [
    "lista_ex13 = [x for (x,y) in filmes if x.startswith(\"C\")]\n",
    "lista_ex13"
   ]
  },
  {
   "cell_type": "markdown",
   "metadata": {},
   "source": [
    "## Parabéns! você resolveu os exercícios propostos e agora está pronto para aplicar os conhecimentos adquiridos nos seus projetos.\n",
    "### Mas, antes de sair, por que não um pequeno desafio?"
   ]
  },
  {
   "cell_type": "code",
   "execution_count": 58,
   "metadata": {},
   "outputs": [],
   "source": [
    "# Vamos lá!"
   ]
  },
  {
   "cell_type": "markdown",
   "metadata": {},
   "source": [
    "## Desafio: Utilizando list comprehensions escreva uma expressão que faça a encriptação de uma frase. \n",
    "### dica: você pode utilizar, por exemplo, a transposição de letras para transformar as palavras em códigos."
   ]
  },
  {
   "cell_type": "code",
   "execution_count": 1,
   "metadata": {},
   "outputs": [],
   "source": [
    "# 42"
   ]
  }
 ],
 "metadata": {
  "kernelspec": {
   "display_name": "Python 3",
   "language": "python",
   "name": "python3"
  },
  "language_info": {
   "codemirror_mode": {
    "name": "ipython",
    "version": 3
   },
   "file_extension": ".py",
   "mimetype": "text/x-python",
   "name": "python",
   "nbconvert_exporter": "python",
   "pygments_lexer": "ipython3",
   "version": "3.7.4"
  }
 },
 "nbformat": 4,
 "nbformat_minor": 2
}
