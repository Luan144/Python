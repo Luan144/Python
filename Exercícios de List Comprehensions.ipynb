{
 "cells": [
  {
   "cell_type": "markdown",
   "metadata": {},
   "source": [
    "# Lista de exercícios para utilização de List Comprehensions"
   ]
  },
  {
   "cell_type": "markdown",
   "metadata": {},
   "source": [
    "### O objetivo dessa lista de exercícios é proporcionar a aplicação de list comprehensions de forma gradual para melhor compreensão e fixação dos conceitos."
   ]
  },
  {
   "cell_type": "markdown",
   "metadata": {},
   "source": [
    "#### Importar o módulo Numpy para criação de arrays:"
   ]
  },
  {
   "cell_type": "code",
   "execution_count": 31,
   "metadata": {},
   "outputs": [],
   "source": []
  },
  {
   "cell_type": "markdown",
   "metadata": {},
   "source": [
    "## Exercícios com manipulação de números"
   ]
  },
  {
   "cell_type": "markdown",
   "metadata": {},
   "source": [
    "#### Utilizando o módulo NumPy crie uma lista com números ordenados. Por exemplo: de 0 a 10.\n",
    "#### dica: Para melhor aferição dos resultados limite o comprimento da sua lista a poucos elementos."
   ]
  },
  {
   "cell_type": "code",
   "execution_count": null,
   "metadata": {},
   "outputs": [],
   "source": []
  },
  {
   "cell_type": "markdown",
   "metadata": {},
   "source": [
    "## Ex 01) Escreva uma list comprehension que retorne uma segunda lista com os valores da primeira multiplicados por 2."
   ]
  },
  {
   "cell_type": "code",
   "execution_count": null,
   "metadata": {},
   "outputs": [],
   "source": []
  },
  {
   "cell_type": "markdown",
   "metadata": {},
   "source": [
    "## Ex 02) Escreva uma list comprehension que retorne uma lista com os valores da primeira elevados ao quadrado."
   ]
  },
  {
   "cell_type": "code",
   "execution_count": null,
   "metadata": {},
   "outputs": [],
   "source": []
  },
  {
   "cell_type": "markdown",
   "metadata": {},
   "source": [
    "## Ex 03) Escreva uma list comprehension que retorne uma lista contendo apenas os números pares da primeira llsta."
   ]
  },
  {
   "cell_type": "code",
   "execution_count": null,
   "metadata": {},
   "outputs": [],
   "source": []
  },
  {
   "cell_type": "markdown",
   "metadata": {},
   "source": [
    "## Ex 04) Escreva uma list comprehension que retorne uma lista contendo apenas os números ímpares da primeira lista."
   ]
  },
  {
   "cell_type": "code",
   "execution_count": null,
   "metadata": {},
   "outputs": [],
   "source": []
  },
  {
   "cell_type": "markdown",
   "metadata": {},
   "source": [
    "## Ex 05) Escreva uma list comprehension que retorne apenas os números pares da primeira lista e os transforme em números negativos. Após isso, adicione esta nova lista à lista do Ex 04."
   ]
  },
  {
   "cell_type": "code",
   "execution_count": null,
   "metadata": {},
   "outputs": [],
   "source": []
  },
  {
   "cell_type": "markdown",
   "metadata": {},
   "source": [
    "## Ex 06) Utilizando a lista criada no exercício 05 escreva uma list comprehension que retorne  uma segunda lista apenas com os valores negativos da primeira."
   ]
  },
  {
   "cell_type": "code",
   "execution_count": null,
   "metadata": {},
   "outputs": [],
   "source": []
  },
  {
   "cell_type": "markdown",
   "metadata": {},
   "source": [
    "## Ex 07) Ainda utilizando a lista criada no exercício 05, escreva uma list comprehension que eleve ao quadrado os números negativos e que triplique os números positivos. "
   ]
  },
  {
   "cell_type": "code",
   "execution_count": null,
   "metadata": {},
   "outputs": [],
   "source": []
  },
  {
   "cell_type": "markdown",
   "metadata": {},
   "source": [
    "## Ex 08) Crie agora duas listas numéricas contendo três elementos cada. Em seguida, utilizando list comprehensions, escreva uma expressão que calcule o produto cartesiano entre os valores dessas duas listas."
   ]
  },
  {
   "cell_type": "code",
   "execution_count": null,
   "metadata": {},
   "outputs": [],
   "source": []
  },
  {
   "cell_type": "markdown",
   "metadata": {},
   "source": [
    "## Exercícios com manipulação de strings"
   ]
  },
  {
   "cell_type": "markdown",
   "metadata": {},
   "source": [
    "#### Crie uma string com pelo menos 5 palavras"
   ]
  },
  {
   "cell_type": "code",
   "execution_count": null,
   "metadata": {},
   "outputs": [],
   "source": []
  },
  {
   "cell_type": "markdown",
   "metadata": {},
   "source": [
    "## Ex 09) Utilizando list comprehensions escreva uma expressão que gere uma lista contendo o número de letras de cada palavra da srting criada anteriormente."
   ]
  },
  {
   "cell_type": "code",
   "execution_count": null,
   "metadata": {},
   "outputs": [],
   "source": []
  },
  {
   "cell_type": "markdown",
   "metadata": {},
   "source": [
    "## Ex 10) Utilizando list comprehensions escreva uma expressão que gere uma lista contendo todas as palavras da string criada anteriormente exceto uma delas. "
   ]
  },
  {
   "cell_type": "code",
   "execution_count": null,
   "metadata": {},
   "outputs": [],
   "source": []
  },
  {
   "cell_type": "markdown",
   "metadata": {},
   "source": [
    "## Ex 11) Utilizando list comprehensions escreva uma expressão que gere uma lista com todas as vogais presentes na segunda palavra da string criada no exercício anterior."
   ]
  },
  {
   "cell_type": "code",
   "execution_count": null,
   "metadata": {},
   "outputs": [],
   "source": []
  },
  {
   "cell_type": "markdown",
   "metadata": {},
   "source": [
    "## Ex 12) Utilizando list comprehensions itere sobre a lista a seguir e obtenha uma segunda lista apenas com os filmes lançados até 2015."
   ]
  },
  {
   "cell_type": "code",
   "execution_count": 4,
   "metadata": {},
   "outputs": [],
   "source": [
    "filmes = [(\"Trama Fantasma\", 2017), (\"Com Amor Van Gogh\", 2017), (\"Nebraska\", 2013), (\"Cosmópolis\", 2012), (\"O Lagosta\", 2015),\n",
    "          (\"A Chegada\", 2016), (\"O Primeiro Homen\", 2018)]"
   ]
  },
  {
   "cell_type": "code",
   "execution_count": null,
   "metadata": {},
   "outputs": [],
   "source": []
  },
  {
   "cell_type": "markdown",
   "metadata": {},
   "source": [
    "## Ex 13) Utilizando list comprehensions itere sobre a lista do exercício anterior e obtenha uma segunda lista apenas os títulos dos filmes cujo título é iniciado com a letra \"C\"."
   ]
  },
  {
   "cell_type": "code",
   "execution_count": null,
   "metadata": {},
   "outputs": [],
   "source": []
  },
  {
   "cell_type": "markdown",
   "metadata": {},
   "source": [
    "## Parabéns! você resolveu os exercícios propostos e agora está pronto para aplicar os conhecimentos adquiridos nos seus projetos.\n",
    "### Mas, antes de sair, por que não um pequeno desafio?"
   ]
  },
  {
   "cell_type": "code",
   "execution_count": null,
   "metadata": {},
   "outputs": [],
   "source": []
  },
  {
   "cell_type": "markdown",
   "metadata": {},
   "source": [
    "## Desafio: Utilizando list comprehensions escreva uma expressão que faça a encriptação de uma frase. \n",
    "### dica: você pode utilizar, por exemplo, a transposição de letras para transformar as palavras em códigos."
   ]
  },
  {
   "cell_type": "code",
   "execution_count": null,
   "metadata": {},
   "outputs": [],
   "source": []
  }
 ],
 "metadata": {
  "kernelspec": {
   "display_name": "Python 3",
   "language": "python",
   "name": "python3"
  },
  "language_info": {
   "codemirror_mode": {
    "name": "ipython",
    "version": 3
   },
   "file_extension": ".py",
   "mimetype": "text/x-python",
   "name": "python",
   "nbconvert_exporter": "python",
   "pygments_lexer": "ipython3",
   "version": "3.7.4"
  }
 },
 "nbformat": 4,
 "nbformat_minor": 2
}
